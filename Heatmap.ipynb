{
 "cells": [
  {
   "cell_type": "code",
   "execution_count": null,
   "id": "4b03d9c4",
   "metadata": {},
   "outputs": [],
   "source": [
    "# ライブラリの準備\n",
    "import pandas as pd\n",
    "import matplotlib.pyplot as plt\n",
    "import seaborn as sns"
   ]
  },
  {
   "cell_type": "markdown",
   "id": "b9331ee9",
   "metadata": {},
   "source": [
    "# Test data"
   ]
  },
  {
   "cell_type": "code",
   "execution_count": null,
   "id": "b4314b2c",
   "metadata": {},
   "outputs": [],
   "source": [
    "# テストデータのロード\n",
    "iris = sns.load_dataset('iris')\n",
    "\n",
    "# データの整形\n",
    "iris = iris.set_index('species').T\n",
    "\n",
    "# 内容の確認\n",
    "iris.head()"
   ]
  },
  {
   "cell_type": "code",
   "execution_count": null,
   "id": "bf5d140a",
   "metadata": {},
   "outputs": [],
   "source": [
    "# Figureのサイズを設定する\n",
    "fig = plt.figure(figsize = (12, 4))\n",
    "ax = fig.add_subplot(111)\n",
    "\n",
    "# ヒートマップを描画する\n",
    "ax = sns.heatmap(iris, cmap = 'viridis')"
   ]
  },
  {
   "cell_type": "markdown",
   "id": "5ebf17cc",
   "metadata": {},
   "source": [
    "# Data from ra-san"
   ]
  },
  {
   "cell_type": "code",
   "execution_count": null,
   "id": "8e99f9ed",
   "metadata": {},
   "outputs": [],
   "source": [
    "# データの読み込み\n",
    "df = pd.read_csv(\"./data/cell_type_order_enrichment_ratio\", sep = \"\\t\")"
   ]
  },
  {
   "cell_type": "code",
   "execution_count": null,
   "id": "909b897f",
   "metadata": {
    "scrolled": false
   },
   "outputs": [],
   "source": [
    "# 先頭5行を表示\n",
    "df.head()"
   ]
  },
  {
   "cell_type": "markdown",
   "id": "5c0a384b",
   "metadata": {},
   "source": [
    "## Heatmap"
   ]
  },
  {
   "cell_type": "code",
   "execution_count": null,
   "id": "a637f628",
   "metadata": {},
   "outputs": [],
   "source": [
    "# データの整形\n",
    "ratio_df = df.set_index(\"cell\")[[\"ratio(disease/random)\"]].T\n",
    "\n",
    "ratio_df.head()"
   ]
  },
  {
   "cell_type": "code",
   "execution_count": null,
   "id": "0e4e05a4",
   "metadata": {
    "scrolled": true
   },
   "outputs": [],
   "source": [
    "# Figureのサイズを設定する\n",
    "fig = plt.figure(figsize = (80, 4))\n",
    "ax = fig.add_subplot(111)\n",
    "\n",
    "# ヒートマップを描画する\n",
    "ax = sns.heatmap(ratio_df, cmap = 'viridis')"
   ]
  },
  {
   "cell_type": "markdown",
   "id": "029424c2",
   "metadata": {},
   "source": [
    "細胞の数が多すぎてヒートマップだと見づらい、、、"
   ]
  },
  {
   "cell_type": "markdown",
   "id": "58f6d40a",
   "metadata": {},
   "source": [
    "## Boxplot"
   ]
  },
  {
   "cell_type": "code",
   "execution_count": null,
   "id": "60c1c605",
   "metadata": {
    "scrolled": true
   },
   "outputs": [],
   "source": [
    "# Figureのサイズを設定する\n",
    "fig = plt.figure(figsize = (8, 4))\n",
    "ax = fig.add_subplot(111)\n",
    "\n",
    "# 箱ひげ図を描画する\n",
    "ax = sns.boxplot(data = df, x = \"ratio(disease/random)\", y = \"cell_type\", palette = 'viridis')\n",
    "\n",
    "# 図を保存する\n",
    "plt.savefig(\"./fig/celltype_enrichment_boxplot.png\", dpi = 400)"
   ]
  },
  {
   "cell_type": "code",
   "execution_count": null,
   "id": "220b2f86",
   "metadata": {},
   "outputs": [],
   "source": []
  }
 ],
 "metadata": {
  "kernelspec": {
   "display_name": "Python 3 (ipykernel)",
   "language": "python",
   "name": "python3"
  },
  "language_info": {
   "codemirror_mode": {
    "name": "ipython",
    "version": 3
   },
   "file_extension": ".py",
   "mimetype": "text/x-python",
   "name": "python",
   "nbconvert_exporter": "python",
   "pygments_lexer": "ipython3",
   "version": "3.9.7"
  }
 },
 "nbformat": 4,
 "nbformat_minor": 5
}
