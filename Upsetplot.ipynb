{
 "cells": [
  {
   "cell_type": "code",
   "execution_count": null,
   "id": "42ffa796",
   "metadata": {},
   "outputs": [],
   "source": [
    "conda install -c conda-forge upsetplot"
   ]
  },
  {
   "cell_type": "code",
   "execution_count": null,
   "id": "1c5d777f",
   "metadata": {},
   "outputs": [],
   "source": [
    "import pandas as pd\n",
    "import matplotlib.pyplot as plt\n",
    "import seaborn as sns\n",
    "import upsetplot\n",
    "from upsetplot import plot"
   ]
  },
  {
   "cell_type": "code",
   "execution_count": null,
   "id": "e630b6bf",
   "metadata": {},
   "outputs": [],
   "source": [
    "# Make list\n",
    "ALL = !cat ./data/pop/ALL\n",
    "AFR = !cat ./data/pop/AFR\n",
    "AMR = !cat ./data/pop/AMR\n",
    "EUR = !cat ./data/pop/EUR\n",
    "EAS = !cat ./data/pop/EAS"
   ]
  },
  {
   "cell_type": "code",
   "execution_count": null,
   "id": "0f9a768d",
   "metadata": {},
   "outputs": [],
   "source": [
    "# make table\n",
    "# listをpandas Seriesに変換し、初期値をTrueにする\n",
    "ALL_df = pd.Series(index = ALL, data = [True]*len(ALL))\n",
    "AFR_df = pd.Series(index = AFR, data = [True]*len(AFR))\n",
    "AMR_df = pd.Series(index = AMR, data = [True]*len(AMR))\n",
    "EUR_df = pd.Series(index = EUR, data = [True]*len(EUR))\n",
    "EAS_df = pd.Series(index = EAS, data = [True]*len(EAS))"
   ]
  },
  {
   "cell_type": "code",
   "execution_count": null,
   "id": "4b94fc84",
   "metadata": {},
   "outputs": [],
   "source": [
    "# それぞれのpandas Seriesを結合する。その際にTrueでない部分はNaNになるので、Falseで埋めておく。\n",
    "upset_pop = pd.concat((ALL_df, AFR_df, AMR_df, EUR_df, EAS_df), \n",
    "                      axis=1).fillna(False)\n",
    "\n",
    "# 行名が0, 1, 2(int)になっているので、任意の名前に変更する\n",
    "upset_pop.columns = [\"ALL\", \"AFR\", \"AMR\", \"EUR\", \"EAS\"]"
   ]
  },
  {
   "cell_type": "code",
   "execution_count": null,
   "id": "4e90d256",
   "metadata": {
    "scrolled": false
   },
   "outputs": [],
   "source": [
    "plot(upset_pop.set_index(list(upset_pop.columns)),\n",
    "     subset_size=\"auto\", show_counts=\"%d\", sort_by='degree', sort_categories_by=None)\n",
    "\n",
    "#plt.savefig('./fig/upset_pop.png', dpi=800)"
   ]
  },
  {
   "cell_type": "code",
   "execution_count": null,
   "id": "024cc66b",
   "metadata": {},
   "outputs": [],
   "source": []
  }
 ],
 "metadata": {
  "kernelspec": {
   "display_name": "Python 3 (ipykernel)",
   "language": "python",
   "name": "python3"
  },
  "language_info": {
   "codemirror_mode": {
    "name": "ipython",
    "version": 3
   },
   "file_extension": ".py",
   "mimetype": "text/x-python",
   "name": "python",
   "nbconvert_exporter": "python",
   "pygments_lexer": "ipython3",
   "version": "3.9.6"
  }
 },
 "nbformat": 4,
 "nbformat_minor": 5
}
