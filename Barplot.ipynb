{
 "cells": [
  {
   "cell_type": "code",
   "execution_count": null,
   "id": "9ac390fa",
   "metadata": {},
   "outputs": [],
   "source": [
    "# ライブラリの準備\n",
    "import pandas as pd\n",
    "import matplotlib.pyplot as plt\n",
    "import seaborn as sns"
   ]
  },
  {
   "cell_type": "markdown",
   "id": "5ebf17cc",
   "metadata": {},
   "source": [
    "# Data from kyoku-san"
   ]
  },
  {
   "cell_type": "code",
   "execution_count": null,
   "id": "8e99f9ed",
   "metadata": {},
   "outputs": [],
   "source": [
    "# データの読み込み\n",
    "df = pd.read_csv(\"./data/position.txt\", sep = \"\\t\")"
   ]
  },
  {
   "cell_type": "code",
   "execution_count": null,
   "id": "909b897f",
   "metadata": {
    "scrolled": true
   },
   "outputs": [],
   "source": [
    "# 先頭5行を表示\n",
    "df.head()"
   ]
  },
  {
   "cell_type": "code",
   "execution_count": null,
   "id": "2577af31",
   "metadata": {},
   "outputs": [],
   "source": [
    "# 新しい列を追加\n",
    "df[\"ReftoAlt\"] = df[\"Ref\"] + \">\" + df[\"Alt\"]"
   ]
  },
  {
   "cell_type": "code",
   "execution_count": null,
   "id": "441ec6d6",
   "metadata": {
    "scrolled": true
   },
   "outputs": [],
   "source": [
    "# 先頭5行を表示\n",
    "df.head()"
   ]
  },
  {
   "cell_type": "code",
   "execution_count": null,
   "id": "729afc52",
   "metadata": {},
   "outputs": [],
   "source": [
    "# 塩基置換パターンをまとめる\n",
    "for index, row in df.iterrows():\n",
    "    if row['ReftoAlt'] in [\"C>A\", \"G>T\"]:\n",
    "        df.at[index, \"pattern\"] = \"C>A\"\n",
    "    elif row['ReftoAlt'] in [\"C>G\", \"G>C\"]:\n",
    "        df.at[index, \"pattern\"] = \"C>G\"\n",
    "    elif row['ReftoAlt'] in [\"C>T\", \"G>A\"]:\n",
    "        df.at[index, \"pattern\"] = \"C>T\"\n",
    "    elif row['ReftoAlt'] in [\"T>A\", \"A>T\"]:\n",
    "        df.at[index, \"pattern\"] = \"T>A\"\n",
    "    elif row['ReftoAlt'] in [\"T>C\", \"A>G\"]:\n",
    "        df.at[index, \"pattern\"] = \"T>C\"\n",
    "    elif row['ReftoAlt'] in [\"T>G\", \"A>C\"]:\n",
    "        df.at[index, \"pattern\"] = \"T>G\""
   ]
  },
  {
   "cell_type": "code",
   "execution_count": null,
   "id": "87ac6597",
   "metadata": {
    "scrolled": false
   },
   "outputs": [],
   "source": [
    "# 先頭5行を表示\n",
    "df.head()"
   ]
  },
  {
   "cell_type": "code",
   "execution_count": null,
   "id": "b5450715",
   "metadata": {
    "scrolled": true
   },
   "outputs": [],
   "source": [
    "# 塩基置換パターン毎に集計\n",
    "pattern_df = df.groupby([\"position\", \"pattern\"]).sum().reset_index()"
   ]
  },
  {
   "cell_type": "code",
   "execution_count": null,
   "id": "abb71efc",
   "metadata": {},
   "outputs": [],
   "source": [
    "pattern_df.head()"
   ]
  },
  {
   "cell_type": "markdown",
   "id": "d8208236",
   "metadata": {},
   "source": [
    "## Barplot"
   ]
  },
  {
   "cell_type": "code",
   "execution_count": null,
   "id": "ec31f05a",
   "metadata": {},
   "outputs": [],
   "source": [
    "sns.set_style('ticks')\n",
    "\n",
    "# Figureのサイズを設定する\n",
    "fig = plt.figure(figsize = (12, 4))\n",
    "ax = fig.add_subplot(111)\n",
    "\n",
    "# 棒グラフを描画する\n",
    "ax = sns.barplot(data = pattern_df, x = \"position\", y = \"count\", hue = \"pattern\", palette = \"Set2\")\n",
    "\n",
    "# 図を保存する\n",
    "plt.savefig(\"./fig/position_barplot.png\", dpi = 800)"
   ]
  }
 ],
 "metadata": {
  "kernelspec": {
   "display_name": "Python 3 (ipykernel)",
   "language": "python",
   "name": "python3"
  },
  "language_info": {
   "codemirror_mode": {
    "name": "ipython",
    "version": 3
   },
   "file_extension": ".py",
   "mimetype": "text/x-python",
   "name": "python",
   "nbconvert_exporter": "python",
   "pygments_lexer": "ipython3",
   "version": "3.9.7"
  }
 },
 "nbformat": 4,
 "nbformat_minor": 5
}
